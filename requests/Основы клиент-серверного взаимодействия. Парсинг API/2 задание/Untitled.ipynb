{
 "cells": [
  {
   "cell_type": "markdown",
   "id": "15a54350",
   "metadata": {},
   "source": [
    "## Пример запроса к api яндекс погоды по координатам г.Москва"
   ]
  },
  {
   "cell_type": "code",
   "execution_count": 1,
   "id": "2f94d99b",
   "metadata": {},
   "outputs": [],
   "source": [
    "import requests\n",
    "import json\n",
    "\n",
    "\n",
    "\n",
    "\n"
   ]
  },
  {
   "cell_type": "markdown",
   "id": "e81208b3",
   "metadata": {},
   "source": [
    "### Авторизация происходит по заранее полученному ключу. "
   ]
  },
  {
   "cell_type": "code",
   "execution_count": 2,
   "id": "de494789",
   "metadata": {},
   "outputs": [],
   "source": [
    "key = 'e465c442-1f66-4523-b13a-c4c7bd50456f'\n",
    "\n",
    "rec = requests.get(\"https://api.weather.yandex.ru/v2/forecast?\",\n",
    "                 params={'lat': 55.75, 'lon': 37.62, 'lang': 'ru_UA'}, headers={'X-Yandex-API-Key': key,})"
   ]
  },
  {
   "cell_type": "code",
   "execution_count": 3,
   "id": "1f4b3eaf",
   "metadata": {},
   "outputs": [],
   "source": [
    "data = rec.json()"
   ]
  },
  {
   "cell_type": "code",
   "execution_count": 4,
   "id": "346f2955",
   "metadata": {},
   "outputs": [
    {
     "name": "stdout",
     "output_type": "stream",
     "text": [
      "dict_keys(['now', 'now_dt', 'info', 'geo_object', 'yesterday', 'fact', 'forecasts'])\n"
     ]
    }
   ],
   "source": [
    "print(data.keys())"
   ]
  },
  {
   "cell_type": "code",
   "execution_count": 5,
   "id": "a21ebab8",
   "metadata": {},
   "outputs": [
    {
     "name": "stdout",
     "output_type": "stream",
     "text": [
      "Москва\n"
     ]
    }
   ],
   "source": [
    "print(data['geo_object']['locality']['name'])"
   ]
  },
  {
   "cell_type": "code",
   "execution_count": 6,
   "id": "adc005fb",
   "metadata": {},
   "outputs": [
    {
     "name": "stdout",
     "output_type": "stream",
     "text": [
      "Температура 15 Ощущается как 12\n"
     ]
    }
   ],
   "source": [
    "print('Температура', data['fact']['temp'], 'Ощущается как', data['fact']['feels_like'] )"
   ]
  },
  {
   "cell_type": "code",
   "execution_count": 8,
   "id": "dd73b9f7",
   "metadata": {},
   "outputs": [],
   "source": [
    "with open('data.json', 'w') as file:\n",
    "    json.dump(data, file)"
   ]
  },
  {
   "cell_type": "code",
   "execution_count": null,
   "id": "19719d71",
   "metadata": {},
   "outputs": [],
   "source": []
  }
 ],
 "metadata": {
  "kernelspec": {
   "display_name": "Python 3",
   "language": "python",
   "name": "python3"
  },
  "language_info": {
   "codemirror_mode": {
    "name": "ipython",
    "version": 3
   },
   "file_extension": ".py",
   "mimetype": "text/x-python",
   "name": "python",
   "nbconvert_exporter": "python",
   "pygments_lexer": "ipython3",
   "version": "3.9.5"
  }
 },
 "nbformat": 4,
 "nbformat_minor": 5
}
