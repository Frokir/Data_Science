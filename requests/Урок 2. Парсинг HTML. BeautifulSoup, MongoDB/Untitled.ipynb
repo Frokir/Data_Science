{
 "cells": [
  {
   "cell_type": "code",
   "execution_count": 1,
   "id": "f203219c",
   "metadata": {},
   "outputs": [],
   "source": [
    "import requests\n",
    "import json\n",
    "from bs4 import BeautifulSoup as bs\n",
    "import json\n",
    "import numpy\n",
    "import pandas as pd"
   ]
  },
  {
   "cell_type": "markdown",
   "id": "70e01193",
   "metadata": {},
   "source": [
    "## Первый сайт парсится через суп, второй через API и json"
   ]
  },
  {
   "cell_type": "code",
   "execution_count": 2,
   "id": "0df9779e",
   "metadata": {},
   "outputs": [],
   "source": [
    "vacancy = 'Junior'\n",
    "#Структура базы {'name': 'spam', 'salary': '1000', 'vac_link': 'www.hub.com', 'site_link': 'www.besthub.com'}\n",
    "output_data = []"
   ]
  },
  {
   "cell_type": "markdown",
   "id": "dccf872a",
   "metadata": {},
   "source": [
    "Запрос к superjob"
   ]
  },
  {
   "cell_type": "code",
   "execution_count": 3,
   "id": "6f55d0f4",
   "metadata": {},
   "outputs": [],
   "source": [
    "req = requests.get('https://russia.superjob.ru/vacancy/search/'\n",
    "                  , params={'keywords': vacancy})\n",
    "#req.encoding = 'utf-8'"
   ]
  },
  {
   "cell_type": "code",
   "execution_count": 4,
   "id": "87fed18f",
   "metadata": {},
   "outputs": [],
   "source": [
    "soup = bs(req.text,'lxml')"
   ]
  },
  {
   "cell_type": "code",
   "execution_count": 5,
   "id": "4b6682ee",
   "metadata": {},
   "outputs": [],
   "source": [
    "#print(soup.prettify())"
   ]
  },
  {
   "cell_type": "markdown",
   "id": "3a2c764e",
   "metadata": {},
   "source": [
    "Запрос к НН"
   ]
  },
  {
   "cell_type": "code",
   "execution_count": 6,
   "id": "1be84b09",
   "metadata": {},
   "outputs": [],
   "source": [
    "req_2 = requests.get('https://api.hh.ru/vacancies'\n",
    "                  , params={'text': vacancy})\n",
    "#req.encoding = 'utf-8'"
   ]
  },
  {
   "cell_type": "code",
   "execution_count": 7,
   "id": "29ad4b50",
   "metadata": {},
   "outputs": [],
   "source": [
    "req_2 = req_2.json()"
   ]
  },
  {
   "cell_type": "markdown",
   "id": "25fbccae",
   "metadata": {},
   "source": [
    "Формирование резудьтата для НН"
   ]
  },
  {
   "cell_type": "code",
   "execution_count": 8,
   "id": "948394a2",
   "metadata": {},
   "outputs": [],
   "source": [
    "def sal(i):\n",
    "    if i['salary'] == None:\n",
    "        res = 'По договорённости'\n",
    "    elif i['salary']['to'] == None or i['salary']['from'] == i['salary']['to']:\n",
    "        res = str(i['salary']['from']) + ' '+  str(i['salary']['currency'])\n",
    "    else:\n",
    "        res = str(i['salary']['from']) + ' - ' +  str(i['salary']['to']) + ' ' + str(i['salary']['currency'])\n",
    "    return res\n",
    "\n",
    "for i in req_2['items']:\n",
    "    var_dict = {'name': i['name'], 'salary': sal(i), 'vac_link': i['apply_alternate_url'], 'site_link': 'www.hh.ru\\n'}\n",
    "    output_data.append(var_dict)"
   ]
  },
  {
   "cell_type": "markdown",
   "id": "cc8387e5",
   "metadata": {},
   "source": [
    "Формирование рузультата для superjob"
   ]
  },
  {
   "cell_type": "code",
   "execution_count": 9,
   "id": "a418ed3c",
   "metadata": {},
   "outputs": [
    {
     "name": "stdout",
     "output_type": "stream",
     "text": [
      "Junior devops engineer\n"
     ]
    }
   ],
   "source": [
    "links_name = soup.select('div.f-test-search-result-item a.icMQ_._6AfZ9')\n",
    "print(links_name[0].text)"
   ]
  },
  {
   "cell_type": "code",
   "execution_count": 10,
   "id": "40281051",
   "metadata": {},
   "outputs": [
    {
     "name": "stdout",
     "output_type": "stream",
     "text": [
      "По договорённости\n"
     ]
    }
   ],
   "source": [
    "links_salary = soup.select('div.f-test-search-result-item span._1h3Zg._2Wp8I._2rfUm._2hCDz._2ZsgW')\n",
    "print(links_salary[0].text)"
   ]
  },
  {
   "cell_type": "code",
   "execution_count": 11,
   "id": "126790c5",
   "metadata": {},
   "outputs": [
    {
     "name": "stdout",
     "output_type": "stream",
     "text": [
      "https://www.superjob.ru/vakansii/junior-devops-engineer-38849288.html\n"
     ]
    }
   ],
   "source": [
    "links_link = soup.select('div.f-test-search-result-item a')\n",
    "link = 'https://www.superjob.ru' + links_link[0].get('href')\n",
    "print(link)"
   ]
  },
  {
   "cell_type": "code",
   "execution_count": 12,
   "id": "25a539bc",
   "metadata": {
    "scrolled": true
   },
   "outputs": [],
   "source": [
    "web_link = 'www.superjob.ru'"
   ]
  },
  {
   "cell_type": "code",
   "execution_count": 13,
   "id": "4f060b01",
   "metadata": {},
   "outputs": [],
   "source": [
    "#for i in range(len(links_name)):\n",
    "#    print(links_name[i].text)\n",
    "#    print(links_salary[i].text)\n",
    "#    print('https://www.superjob.ru' + links_link[0].get('href'))\n",
    "#    print(web_link, '\\n')\n",
    "    "
   ]
  },
  {
   "cell_type": "code",
   "execution_count": 16,
   "id": "500d1882",
   "metadata": {},
   "outputs": [],
   "source": [
    "for i in range(len(links_name)):\n",
    "    vac_link = 'https://www.superjob.ru' + links_link[0].get('href')\n",
    "    var_dict = {'name': links_name[i].text, 'salary': str(links_salary[i].text), 'vac_link': vac_link, 'site_link': web_link}\n",
    "    output_data.append(var_dict)"
   ]
  },
  {
   "cell_type": "code",
   "execution_count": 17,
   "id": "4d414fb6",
   "metadata": {},
   "outputs": [
    {
     "name": "stdout",
     "output_type": "stream",
     "text": [
      "Junior Project Manager\n",
      "Junior Web Developer (стажер)\n",
      "Junior D365FO Developer / Младший программист\n",
      "Junior iOS developer\n",
      "Стажер / Junior разработчик PHP\n",
      "Junior Web Developer (Trainee)\n",
      "Java Developer — Junior to Middle (Ученик)\n",
      "Junior Developer / Младший разработчик\n",
      "Junior C# специалист\n",
      "Junior Front-End/JavaScript Developer (стажёр)\n",
      "Junior Developer\n",
      "Junior Data Scientist\n",
      "Junior фронтенд разработчик (стажер)\n",
      "Стажёр/junior разработчик PL/SQL\n",
      "Junior QA / Младший тестировщик\n",
      "Младший веб-программист/Junior web-developer\n",
      "SEO-специалист (стажер \\ junior \\ middle)\n",
      "Junior web-developer\n",
      "Веб-программист junior\n",
      "Junior frontend developer / WFH\n",
      "Junior devops engineer\n",
      "PHP-программист (backend junior)\n",
      "Frontend разработчик (junior/middle)\n",
      "Интернет-маркетолог (junior, начальный уровень)\n",
      "Junior-программист 1С\n",
      "Младший системный администратор Windows / Junior System Administrator\n",
      "Junior программист 1С\n",
      "Junior frontend developer (Angular 8+)\n",
      "Junior Front End Developer\n",
      "Junior Developer\n",
      "Junior-программист 1С\n",
      "Junior КАМ / Специалист по поддержке клиентов\n",
      "Junior Java разработчик\n",
      "Junior UI / UX Designer\n",
      "Junior Java Developer\n",
      "Junior Backend разработчик\n",
      "Программист 1С (junior)\n",
      "Аналитик мобильных приложений / Игровой Аналитик (junior)\n",
      "Junior Full Stack разработчик\n",
      "Программист 1С (junior)\n"
     ]
    }
   ],
   "source": [
    "for i in output_data:\n",
    "    print(i['name'])"
   ]
  },
  {
   "cell_type": "code",
   "execution_count": null,
   "id": "a46bc320",
   "metadata": {},
   "outputs": [],
   "source": []
  },
  {
   "cell_type": "code",
   "execution_count": null,
   "id": "e0fdb563",
   "metadata": {},
   "outputs": [],
   "source": []
  },
  {
   "cell_type": "code",
   "execution_count": null,
   "id": "fb8f7da9",
   "metadata": {},
   "outputs": [],
   "source": []
  },
  {
   "cell_type": "code",
   "execution_count": null,
   "id": "576fbf21",
   "metadata": {},
   "outputs": [],
   "source": []
  }
 ],
 "metadata": {
  "kernelspec": {
   "display_name": "Python 3",
   "language": "python",
   "name": "python3"
  },
  "language_info": {
   "codemirror_mode": {
    "name": "ipython",
    "version": 3
   },
   "file_extension": ".py",
   "mimetype": "text/x-python",
   "name": "python",
   "nbconvert_exporter": "python",
   "pygments_lexer": "ipython3",
   "version": "3.9.5"
  }
 },
 "nbformat": 4,
 "nbformat_minor": 5
}
