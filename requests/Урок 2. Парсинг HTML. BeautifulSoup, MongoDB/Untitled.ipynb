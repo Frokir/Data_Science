{
 "cells": [
  {
   "cell_type": "code",
   "execution_count": 1,
   "id": "f203219c",
   "metadata": {},
   "outputs": [],
   "source": [
    "import requests\n",
    "import json\n",
    "from bs4 import BeautifulSoup as bs"
   ]
  },
  {
   "cell_type": "code",
   "execution_count": 73,
   "id": "6f1dc598",
   "metadata": {},
   "outputs": [],
   "source": [
    "req = requests.get('https://rskrf.ru/ratings/produkty-pitaniya/konservy/ovoshchnaya-ikra-kabachkovaya-2021/').text"
   ]
  },
  {
   "cell_type": "code",
   "execution_count": 74,
   "id": "87fed18f",
   "metadata": {},
   "outputs": [],
   "source": [
    "soup = bs(req,'lxml')"
   ]
  },
  {
   "cell_type": "code",
   "execution_count": null,
   "id": "a418ed3c",
   "metadata": {},
   "outputs": [],
   "source": []
  },
  {
   "cell_type": "code",
   "execution_count": 86,
   "id": "40281051",
   "metadata": {},
   "outputs": [],
   "source": [
    "links = soup.find_all('div', {'class' : 'col-xl-4 col-lg-4 col-md-4 product'}) "
   ]
  },
  {
   "cell_type": "code",
   "execution_count": 99,
   "id": "25a539bc",
   "metadata": {
    "scrolled": true
   },
   "outputs": [
    {
     "data": {
      "text/plain": [
       "<a :href=\"item.url\">\n",
       "                                    {{item.name}}\n",
       "                                    <span v-html=\"item.s_name\" v-if=\"item.s_name &amp;&amp; settingsList.show_brands\"></span>\n",
       "</a>"
      ]
     },
     "execution_count": 99,
     "metadata": {},
     "output_type": "execute_result"
    }
   ],
   "source": [
    "obj = links[0].find('div', {'class' : 'card'}).find('div', {'class': 'card-body'}).div.a\n",
    "obj"
   ]
  },
  {
   "cell_type": "code",
   "execution_count": null,
   "id": "4f060b01",
   "metadata": {},
   "outputs": [],
   "source": []
  },
  {
   "cell_type": "code",
   "execution_count": null,
   "id": "500d1882",
   "metadata": {},
   "outputs": [],
   "source": []
  },
  {
   "cell_type": "code",
   "execution_count": null,
   "id": "4d414fb6",
   "metadata": {},
   "outputs": [],
   "source": []
  },
  {
   "cell_type": "code",
   "execution_count": null,
   "id": "a46bc320",
   "metadata": {},
   "outputs": [],
   "source": []
  },
  {
   "cell_type": "code",
   "execution_count": null,
   "id": "e0fdb563",
   "metadata": {},
   "outputs": [],
   "source": [
    "for el in links:\n",
    "    text = 'https://rskrf.ru' + el.a.get('href')\n",
    "    print(text)"
   ]
  },
  {
   "cell_type": "code",
   "execution_count": 53,
   "id": "fb8f7da9",
   "metadata": {},
   "outputs": [
    {
     "name": "stdout",
     "output_type": "stream",
     "text": [
      "Овощная икра (кабачковая)\n",
      "Печень трески \n",
      "Огурцы маринованные\n",
      "Кукуруза консервированная\n",
      "Тушеная говядина\n",
      "Натуральные консервы из лососевых рыб\n",
      "Консервы из сайры\n",
      "Зеленый горошек\n",
      "Шпроты в масле\n",
      "Килька обжаренная в томатном соусе\n"
     ]
    }
   ],
   "source": [
    "for el in soup.find_all('span', {'class' : \"d-xl-block d-none\"}):\n",
    "    print(el.string)"
   ]
  },
  {
   "cell_type": "code",
   "execution_count": null,
   "id": "576fbf21",
   "metadata": {},
   "outputs": [],
   "source": []
  }
 ],
 "metadata": {
  "kernelspec": {
   "display_name": "Python 3",
   "language": "python",
   "name": "python3"
  },
  "language_info": {
   "codemirror_mode": {
    "name": "ipython",
    "version": 3
   },
   "file_extension": ".py",
   "mimetype": "text/x-python",
   "name": "python",
   "nbconvert_exporter": "python",
   "pygments_lexer": "ipython3",
   "version": "3.9.5"
  }
 },
 "nbformat": 4,
 "nbformat_minor": 5
}
