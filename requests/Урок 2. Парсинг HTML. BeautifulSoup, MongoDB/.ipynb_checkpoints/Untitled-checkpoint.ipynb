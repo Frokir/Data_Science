{
 "cells": [
  {
   "cell_type": "code",
   "execution_count": 33,
   "id": "f203219c",
   "metadata": {},
   "outputs": [],
   "source": [
    "import requests\n",
    "import json\n",
    "from bs4 import BeautifulSoup as bs\n",
    "import json"
   ]
  },
  {
   "cell_type": "markdown",
   "id": "7f66563e",
   "metadata": {},
   "source": [
    "## Первый сайт парсится через суп, второй через API и json"
   ]
  },
  {
   "cell_type": "code",
   "execution_count": null,
   "id": "0bcaf0af",
   "metadata": {},
   "outputs": [],
   "source": [
    "vacancy = 'Junior'"
   ]
  },
  {
   "cell_type": "markdown",
   "id": "4c3b57f1",
   "metadata": {},
   "source": [
    "Запрос к superjob"
   ]
  },
  {
   "cell_type": "code",
   "execution_count": 21,
   "id": "28181141",
   "metadata": {},
   "outputs": [],
   "source": [
    "req = requests.get('https://russia.superjob.ru/vacancy/search/'\n",
    "                  , params={'keywords': vacancy})\n",
    "#req.encoding = 'utf-8'"
   ]
  },
  {
   "cell_type": "code",
   "execution_count": 22,
   "id": "87fed18f",
   "metadata": {},
   "outputs": [],
   "source": [
    "soup = bs(req.text,'lxml')"
   ]
  },
  {
   "cell_type": "code",
   "execution_count": 14,
   "id": "4b6682ee",
   "metadata": {},
   "outputs": [],
   "source": [
    "#print(soup.prettify())"
   ]
  },
  {
   "cell_type": "markdown",
   "id": "f6400960",
   "metadata": {},
   "source": [
    "Запрос к НН"
   ]
  },
  {
   "cell_type": "code",
   "execution_count": 28,
   "id": "50199551",
   "metadata": {},
   "outputs": [],
   "source": [
    "req_2 = requests.get('https://api.hh.ru/vacancies'\n",
    "                  , params={'text': vacancy})\n",
    "#req.encoding = 'utf-8'"
   ]
  },
  {
   "cell_type": "code",
   "execution_count": 34,
   "id": "ad788688",
   "metadata": {},
   "outputs": [],
   "source": [
    "req_2 = req_2.json()"
   ]
  },
  {
   "cell_type": "markdown",
   "id": "a3b31fee",
   "metadata": {},
   "source": [
    "Формирование резудьтата для НН"
   ]
  },
  {
   "cell_type": "code",
   "execution_count": 53,
   "id": "75b3be72",
   "metadata": {},
   "outputs": [
    {
     "name": "stdout",
     "output_type": "stream",
     "text": [
      "Junior Project Manager\n",
      "75000   RUR\n",
      "https://hh.ru/applicant/vacancy_response?vacancyId=47215958\n",
      "www.hh.ru\n",
      "\n",
      "Junior Web Developer (стажер)\n",
      "По договорённости\n",
      "https://hh.ru/applicant/vacancy_response?vacancyId=47588260\n",
      "www.hh.ru\n",
      "\n",
      "Junior D365FO Developer / Младший программист\n",
      "80000  -  130000   RUR\n",
      "https://hh.ru/applicant/vacancy_response?vacancyId=47865537\n",
      "www.hh.ru\n",
      "\n",
      "Junior iOS developer\n",
      "80000  -  120000   RUR\n",
      "https://hh.ru/applicant/vacancy_response?vacancyId=42595655\n",
      "www.hh.ru\n",
      "\n",
      "Стажер / Junior разработчик PHP\n",
      "None  -  80000   RUR\n",
      "https://hh.ru/applicant/vacancy_response?vacancyId=47111167\n",
      "www.hh.ru\n",
      "\n",
      "Junior Web Developer (Trainee)\n",
      "480   USD\n",
      "https://hh.ru/applicant/vacancy_response?vacancyId=47879938\n",
      "www.hh.ru\n",
      "\n",
      "Java Developer — Junior to Middle (Ученик)\n",
      "120000  -  160000   RUR\n",
      "https://hh.ru/applicant/vacancy_response?vacancyId=47977394\n",
      "www.hh.ru\n",
      "\n",
      "Junior Developer / Младший разработчик\n",
      "65000   RUR\n",
      "https://hh.ru/applicant/vacancy_response?vacancyId=45678830\n",
      "www.hh.ru\n",
      "\n",
      "Junior C# специалист\n",
      "80000   RUR\n",
      "https://hh.ru/applicant/vacancy_response?vacancyId=47507170\n",
      "www.hh.ru\n",
      "\n",
      "Junior Front-End/JavaScript Developer (стажёр)\n",
      "По договорённости\n",
      "https://hh.ru/applicant/vacancy_response?vacancyId=47845550\n",
      "www.hh.ru\n",
      "\n",
      "Junior Developer\n",
      "30000  -  75000   RUR\n",
      "https://hh.ru/applicant/vacancy_response?vacancyId=46845613\n",
      "www.hh.ru\n",
      "\n",
      "Junior Data Scientist\n",
      "40000  -  80000   RUR\n",
      "https://hh.ru/applicant/vacancy_response?vacancyId=47866317\n",
      "www.hh.ru\n",
      "\n",
      "Junior фронтенд разработчик (стажер)\n",
      "30000   RUR\n",
      "https://hh.ru/applicant/vacancy_response?vacancyId=48046812\n",
      "www.hh.ru\n",
      "\n",
      "Стажёр/junior разработчик PL/SQL\n",
      "По договорённости\n",
      "https://hh.ru/applicant/vacancy_response?vacancyId=48011078\n",
      "www.hh.ru\n",
      "\n",
      "Junior QA / Младший тестировщик\n",
      "40000  -  60000   RUR\n",
      "https://hh.ru/applicant/vacancy_response?vacancyId=48052127\n",
      "www.hh.ru\n",
      "\n",
      "Младший веб-программист/Junior web-developer\n",
      "40000  -  50000   RUR\n",
      "https://hh.ru/applicant/vacancy_response?vacancyId=47907856\n",
      "www.hh.ru\n",
      "\n",
      "SEO-специалист (стажер \\ junior \\ middle)\n",
      "По договорённости\n",
      "https://hh.ru/applicant/vacancy_response?vacancyId=47630830\n",
      "www.hh.ru\n",
      "\n",
      "Junior web-developer\n",
      "None  -  60000   RUR\n",
      "https://hh.ru/applicant/vacancy_response?vacancyId=47344180\n",
      "www.hh.ru\n",
      "\n",
      "Веб-программист junior\n",
      "35000   RUR\n",
      "https://hh.ru/applicant/vacancy_response?vacancyId=48023605\n",
      "www.hh.ru\n",
      "\n",
      "Junior frontend developer / WFH\n",
      "None  -  150000   RUR\n",
      "https://hh.ru/applicant/vacancy_response?vacancyId=48000098\n",
      "www.hh.ru\n",
      "\n"
     ]
    }
   ],
   "source": [
    "for i in req_2['items']:\n",
    "    print(i['name'])\n",
    "    \n",
    "    if i['salary'] == None:\n",
    "        print('По договорённости')\n",
    "    elif i['salary']['to'] == None or i['salary']['from'] == i['salary']['to']:\n",
    "        print(i['salary']['from'], ' ', i['salary']['currency'])\n",
    "    else:\n",
    "        print(i['salary']['from'], ' - ',  i['salary']['to'], ' ', i['salary']['currency'] )\n",
    "        \n",
    "    print(i['apply_alternate_url'])\n",
    "    \n",
    "    print('www.hh.ru\\n')\n",
    "    "
   ]
  },
  {
   "cell_type": "markdown",
   "id": "4da46192",
   "metadata": {},
   "source": [
    "Формирование рузультата для superjob"
   ]
  },
  {
   "cell_type": "code",
   "execution_count": 23,
   "id": "a418ed3c",
   "metadata": {},
   "outputs": [
    {
     "name": "stdout",
     "output_type": "stream",
     "text": [
      "Junior devops engineer\n"
     ]
    }
   ],
   "source": [
    "links_name = soup.select('div.f-test-search-result-item a.icMQ_._6AfZ9')\n",
    "print(links_name[0].text)"
   ]
  },
  {
   "cell_type": "code",
   "execution_count": 24,
   "id": "40281051",
   "metadata": {},
   "outputs": [
    {
     "name": "stdout",
     "output_type": "stream",
     "text": [
      "По договорённости\n"
     ]
    }
   ],
   "source": [
    "links_salary = soup.select('div.f-test-search-result-item span._1h3Zg._2Wp8I._2rfUm._2hCDz._2ZsgW')\n",
    "print(links_salary[0].text)"
   ]
  },
  {
   "cell_type": "code",
   "execution_count": 25,
   "id": "126790c5",
   "metadata": {},
   "outputs": [
    {
     "name": "stdout",
     "output_type": "stream",
     "text": [
      "https://www.superjob.ru/vakansii/junior-devops-engineer-38849288.html\n"
     ]
    }
   ],
   "source": [
    "links_link = soup.select('div.f-test-search-result-item a')\n",
    "link = 'https://www.superjob.ru' + links_link[0].get('href')\n",
    "print(link)"
   ]
  },
  {
   "cell_type": "code",
   "execution_count": 26,
   "id": "25a539bc",
   "metadata": {
    "scrolled": true
   },
   "outputs": [],
   "source": [
    "web_link = 'www.superjob.ru'"
   ]
  },
  {
   "cell_type": "code",
   "execution_count": 27,
   "id": "4f060b01",
   "metadata": {},
   "outputs": [
    {
     "name": "stdout",
     "output_type": "stream",
     "text": [
      "Junior devops engineer\n",
      "По договорённости\n",
      "https://www.superjob.ru/vakansii/junior-devops-engineer-38849288.html\n",
      "www.superjob.ru \n",
      "\n",
      "PHP-программист (backend junior)\n",
      "70 000 — 75 000 руб.\n",
      "https://www.superjob.ru/vakansii/junior-devops-engineer-38849288.html\n",
      "www.superjob.ru \n",
      "\n",
      "Frontend разработчик (junior/middle)\n",
      "По договорённости\n",
      "https://www.superjob.ru/vakansii/junior-devops-engineer-38849288.html\n",
      "www.superjob.ru \n",
      "\n",
      "Интернет-маркетолог (junior, начальный уровень)\n",
      "По договорённости\n",
      "https://www.superjob.ru/vakansii/junior-devops-engineer-38849288.html\n",
      "www.superjob.ru \n",
      "\n",
      "Junior-программист 1С\n",
      "от 50 000 руб.\n",
      "https://www.superjob.ru/vakansii/junior-devops-engineer-38849288.html\n",
      "www.superjob.ru \n",
      "\n",
      "Младший системный администратор Windows / Junior System Administrator\n",
      "от 65 000 руб.\n",
      "https://www.superjob.ru/vakansii/junior-devops-engineer-38849288.html\n",
      "www.superjob.ru \n",
      "\n",
      "Junior программист 1С\n",
      "до 60 000 руб.\n",
      "https://www.superjob.ru/vakansii/junior-devops-engineer-38849288.html\n",
      "www.superjob.ru \n",
      "\n",
      "Junior frontend developer (Angular 8+)\n",
      "По договорённости\n",
      "https://www.superjob.ru/vakansii/junior-devops-engineer-38849288.html\n",
      "www.superjob.ru \n",
      "\n",
      "Junior Front End Developer\n",
      "По договорённости\n",
      "https://www.superjob.ru/vakansii/junior-devops-engineer-38849288.html\n",
      "www.superjob.ru \n",
      "\n",
      "Junior Developer\n",
      "По договорённости\n",
      "https://www.superjob.ru/vakansii/junior-devops-engineer-38849288.html\n",
      "www.superjob.ru \n",
      "\n",
      "Junior-программист 1С\n",
      "По договорённости\n",
      "https://www.superjob.ru/vakansii/junior-devops-engineer-38849288.html\n",
      "www.superjob.ru \n",
      "\n",
      "Junior КАМ / Специалист по поддержке клиентов\n",
      "По договорённости\n",
      "https://www.superjob.ru/vakansii/junior-devops-engineer-38849288.html\n",
      "www.superjob.ru \n",
      "\n",
      "Junior Java разработчик\n",
      "По договорённости\n",
      "https://www.superjob.ru/vakansii/junior-devops-engineer-38849288.html\n",
      "www.superjob.ru \n",
      "\n",
      "Junior UI / UX Designer\n",
      "По договорённости\n",
      "https://www.superjob.ru/vakansii/junior-devops-engineer-38849288.html\n",
      "www.superjob.ru \n",
      "\n",
      "Junior Java Developer\n",
      "от 50 000 руб.\n",
      "https://www.superjob.ru/vakansii/junior-devops-engineer-38849288.html\n",
      "www.superjob.ru \n",
      "\n",
      "Junior Backend разработчик\n",
      "до 60 000 руб.\n",
      "https://www.superjob.ru/vakansii/junior-devops-engineer-38849288.html\n",
      "www.superjob.ru \n",
      "\n",
      "Программист 1С (junior)\n",
      "от 30 000 руб.\n",
      "https://www.superjob.ru/vakansii/junior-devops-engineer-38849288.html\n",
      "www.superjob.ru \n",
      "\n",
      "Аналитик мобильных приложений / Игровой Аналитик (junior)\n",
      "По договорённости\n",
      "https://www.superjob.ru/vakansii/junior-devops-engineer-38849288.html\n",
      "www.superjob.ru \n",
      "\n",
      "Junior Full Stack разработчик\n",
      "По договорённости\n",
      "https://www.superjob.ru/vakansii/junior-devops-engineer-38849288.html\n",
      "www.superjob.ru \n",
      "\n",
      "Программист 1С (junior)\n",
      "от 50 000 руб.\n",
      "https://www.superjob.ru/vakansii/junior-devops-engineer-38849288.html\n",
      "www.superjob.ru \n",
      "\n"
     ]
    }
   ],
   "source": [
    "for i in range(len(links_name)):\n",
    "    print(links_name[i].text)\n",
    "    print(links_salary[i].text)\n",
    "    print('https://www.superjob.ru' + links_link[0].get('href'))\n",
    "    print(web_link, '\\n')\n",
    "    "
   ]
  },
  {
   "cell_type": "code",
   "execution_count": null,
   "id": "500d1882",
   "metadata": {},
   "outputs": [],
   "source": []
  },
  {
   "cell_type": "code",
   "execution_count": null,
   "id": "4d414fb6",
   "metadata": {},
   "outputs": [],
   "source": []
  },
  {
   "cell_type": "code",
   "execution_count": null,
   "id": "a46bc320",
   "metadata": {},
   "outputs": [],
   "source": []
  },
  {
   "cell_type": "code",
   "execution_count": null,
   "id": "e0fdb563",
   "metadata": {},
   "outputs": [],
   "source": []
  },
  {
   "cell_type": "code",
   "execution_count": null,
   "id": "fb8f7da9",
   "metadata": {},
   "outputs": [],
   "source": []
  },
  {
   "cell_type": "code",
   "execution_count": null,
   "id": "576fbf21",
   "metadata": {},
   "outputs": [],
   "source": []
  }
 ],
 "metadata": {
  "kernelspec": {
   "display_name": "Python 3",
   "language": "python",
   "name": "python3"
  },
  "language_info": {
   "codemirror_mode": {
    "name": "ipython",
    "version": 3
   },
   "file_extension": ".py",
   "mimetype": "text/x-python",
   "name": "python",
   "nbconvert_exporter": "python",
   "pygments_lexer": "ipython3",
   "version": "3.9.5"
  }
 },
 "nbformat": 4,
 "nbformat_minor": 5
}
