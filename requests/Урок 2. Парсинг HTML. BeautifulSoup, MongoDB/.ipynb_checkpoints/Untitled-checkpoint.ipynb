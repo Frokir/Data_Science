{
 "cells": [
  {
   "cell_type": "code",
   "execution_count": 1,
   "id": "f203219c",
   "metadata": {},
   "outputs": [],
   "source": [
    "import requests\n",
    "import json\n",
    "from bs4 import BeautifulSoup as bs"
   ]
  },
  {
   "cell_type": "markdown",
   "id": "d50fa723",
   "metadata": {},
   "source": [
    "Запрос к superjob"
   ]
  },
  {
   "cell_type": "code",
   "execution_count": null,
   "id": "24993ab5",
   "metadata": {},
   "outputs": [],
   "source": [
    "req = requests.get('https://russia.superjob.ru/vacancy/search/'\n",
    "                  , params={'keywords': 'Junior'})\n",
    "#req.encoding = 'utf-8'"
   ]
  },
  {
   "cell_type": "code",
   "execution_count": 3,
   "id": "87fed18f",
   "metadata": {},
   "outputs": [],
   "source": [
    "soup = bs(req.text,'lxml')"
   ]
  },
  {
   "cell_type": "code",
   "execution_count": 14,
   "id": "4b6682ee",
   "metadata": {},
   "outputs": [],
   "source": [
    "#print(soup.prettify())"
   ]
  },
  {
   "cell_type": "code",
   "execution_count": 10,
   "id": "a418ed3c",
   "metadata": {},
   "outputs": [
    {
     "name": "stdout",
     "output_type": "stream",
     "text": [
      "Junior devops engineer\n"
     ]
    }
   ],
   "source": [
    "links_name = soup.select('div.f-test-search-result-item a.icMQ_._6AfZ9')\n",
    "print(links_name[0].text)"
   ]
  },
  {
   "cell_type": "code",
   "execution_count": 6,
   "id": "40281051",
   "metadata": {},
   "outputs": [
    {
     "name": "stdout",
     "output_type": "stream",
     "text": [
      "По договорённости\n"
     ]
    }
   ],
   "source": [
    "links_salary = soup.select('div.f-test-search-result-item span._1h3Zg._2Wp8I._2rfUm._2hCDz._2ZsgW')\n",
    "print(links_salary[0].text)"
   ]
  },
  {
   "cell_type": "code",
   "execution_count": 7,
   "id": "126790c5",
   "metadata": {},
   "outputs": [
    {
     "name": "stdout",
     "output_type": "stream",
     "text": [
      "https://www.superjob.ru/vakansii/junior-devops-engineer-38849288.html\n"
     ]
    }
   ],
   "source": [
    "links_link = soup.select('div.f-test-search-result-item a')\n",
    "link = 'https://www.superjob.ru' + links_link[0].get('href')\n",
    "print(link)"
   ]
  },
  {
   "cell_type": "code",
   "execution_count": 8,
   "id": "25a539bc",
   "metadata": {
    "scrolled": true
   },
   "outputs": [],
   "source": [
    "web_link = 'www.superjob.ru'"
   ]
  },
  {
   "cell_type": "markdown",
   "id": "8e43d283",
   "metadata": {},
   "source": [
    "Формирование результата."
   ]
  },
  {
   "cell_type": "code",
   "execution_count": 11,
   "id": "4f060b01",
   "metadata": {},
   "outputs": [
    {
     "name": "stdout",
     "output_type": "stream",
     "text": [
      "Junior devops engineer\n",
      "По договорённости\n",
      "https://www.superjob.ru/vakansii/junior-devops-engineer-38849288.html\n",
      "www.superjob.ru \n",
      "\n",
      "PHP-программист (backend junior)\n",
      "70 000 — 75 000 руб.\n",
      "https://www.superjob.ru/vakansii/junior-devops-engineer-38849288.html\n",
      "www.superjob.ru \n",
      "\n",
      "Frontend разработчик (junior/middle)\n",
      "По договорённости\n",
      "https://www.superjob.ru/vakansii/junior-devops-engineer-38849288.html\n",
      "www.superjob.ru \n",
      "\n",
      "Интернет-маркетолог (junior, начальный уровень)\n",
      "По договорённости\n",
      "https://www.superjob.ru/vakansii/junior-devops-engineer-38849288.html\n",
      "www.superjob.ru \n",
      "\n",
      "Junior-программист 1С\n",
      "от 50 000 руб.\n",
      "https://www.superjob.ru/vakansii/junior-devops-engineer-38849288.html\n",
      "www.superjob.ru \n",
      "\n",
      "Младший системный администратор Windows / Junior System Administrator\n",
      "от 65 000 руб.\n",
      "https://www.superjob.ru/vakansii/junior-devops-engineer-38849288.html\n",
      "www.superjob.ru \n",
      "\n",
      "Junior программист 1С\n",
      "до 60 000 руб.\n",
      "https://www.superjob.ru/vakansii/junior-devops-engineer-38849288.html\n",
      "www.superjob.ru \n",
      "\n",
      "Junior frontend developer (Angular 8+)\n",
      "По договорённости\n",
      "https://www.superjob.ru/vakansii/junior-devops-engineer-38849288.html\n",
      "www.superjob.ru \n",
      "\n",
      "Junior Front End Developer\n",
      "По договорённости\n",
      "https://www.superjob.ru/vakansii/junior-devops-engineer-38849288.html\n",
      "www.superjob.ru \n",
      "\n",
      "Junior Developer\n",
      "По договорённости\n",
      "https://www.superjob.ru/vakansii/junior-devops-engineer-38849288.html\n",
      "www.superjob.ru \n",
      "\n",
      "Junior-программист 1С\n",
      "По договорённости\n",
      "https://www.superjob.ru/vakansii/junior-devops-engineer-38849288.html\n",
      "www.superjob.ru \n",
      "\n",
      "Junior КАМ / Специалист по поддержке клиентов\n",
      "По договорённости\n",
      "https://www.superjob.ru/vakansii/junior-devops-engineer-38849288.html\n",
      "www.superjob.ru \n",
      "\n",
      "Junior Java разработчик\n",
      "По договорённости\n",
      "https://www.superjob.ru/vakansii/junior-devops-engineer-38849288.html\n",
      "www.superjob.ru \n",
      "\n",
      "Junior UI / UX Designer\n",
      "По договорённости\n",
      "https://www.superjob.ru/vakansii/junior-devops-engineer-38849288.html\n",
      "www.superjob.ru \n",
      "\n",
      "Junior Java Developer\n",
      "от 50 000 руб.\n",
      "https://www.superjob.ru/vakansii/junior-devops-engineer-38849288.html\n",
      "www.superjob.ru \n",
      "\n",
      "Junior Backend разработчик\n",
      "до 60 000 руб.\n",
      "https://www.superjob.ru/vakansii/junior-devops-engineer-38849288.html\n",
      "www.superjob.ru \n",
      "\n",
      "Программист 1С (junior)\n",
      "от 30 000 руб.\n",
      "https://www.superjob.ru/vakansii/junior-devops-engineer-38849288.html\n",
      "www.superjob.ru \n",
      "\n",
      "Аналитик мобильных приложений / Игровой Аналитик (junior)\n",
      "По договорённости\n",
      "https://www.superjob.ru/vakansii/junior-devops-engineer-38849288.html\n",
      "www.superjob.ru \n",
      "\n",
      "Junior Full Stack разработчик\n",
      "По договорённости\n",
      "https://www.superjob.ru/vakansii/junior-devops-engineer-38849288.html\n",
      "www.superjob.ru \n",
      "\n",
      "Программист 1С (junior)\n",
      "от 50 000 руб.\n",
      "https://www.superjob.ru/vakansii/junior-devops-engineer-38849288.html\n",
      "www.superjob.ru \n",
      "\n"
     ]
    }
   ],
   "source": [
    "for i in range(len(links_name)):\n",
    "    print(links_name[i].text)\n",
    "    print(links_salary[i].text)\n",
    "    print('https://www.superjob.ru' + links_link[0].get('href'))\n",
    "    print(web_link, '\\n')\n",
    "    "
   ]
  },
  {
   "cell_type": "code",
   "execution_count": null,
   "id": "500d1882",
   "metadata": {},
   "outputs": [],
   "source": []
  },
  {
   "cell_type": "code",
   "execution_count": null,
   "id": "4d414fb6",
   "metadata": {},
   "outputs": [],
   "source": []
  },
  {
   "cell_type": "code",
   "execution_count": null,
   "id": "a46bc320",
   "metadata": {},
   "outputs": [],
   "source": []
  },
  {
   "cell_type": "code",
   "execution_count": null,
   "id": "e0fdb563",
   "metadata": {},
   "outputs": [],
   "source": []
  },
  {
   "cell_type": "code",
   "execution_count": null,
   "id": "fb8f7da9",
   "metadata": {},
   "outputs": [],
   "source": []
  },
  {
   "cell_type": "code",
   "execution_count": null,
   "id": "576fbf21",
   "metadata": {},
   "outputs": [],
   "source": []
  }
 ],
 "metadata": {
  "kernelspec": {
   "display_name": "Python 3",
   "language": "python",
   "name": "python3"
  },
  "language_info": {
   "codemirror_mode": {
    "name": "ipython",
    "version": 3
   },
   "file_extension": ".py",
   "mimetype": "text/x-python",
   "name": "python",
   "nbconvert_exporter": "python",
   "pygments_lexer": "ipython3",
   "version": "3.9.5"
  }
 },
 "nbformat": 4,
 "nbformat_minor": 5
}
