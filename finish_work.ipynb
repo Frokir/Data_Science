{
 "cells": [
  {
   "cell_type": "code",
   "execution_count": 1,
   "id": "4cd1cc74",
   "metadata": {},
   "outputs": [],
   "source": [
    "import numpy as np\n",
    "import matplotlib.pyplot as plt\n",
    "import pandas as pd\n",
    "from sklearn.model_selection import train_test_split\n",
    "from sklearn.metrics import r2_score"
   ]
  },
  {
   "cell_type": "code",
   "execution_count": 2,
   "id": "f1833c91",
   "metadata": {},
   "outputs": [],
   "source": [
    "from sklearn.preprocessing import StandardScaler\n",
    "from sklearn.preprocessing import LabelEncoder"
   ]
  },
  {
   "cell_type": "code",
   "execution_count": 3,
   "id": "7d837c45",
   "metadata": {},
   "outputs": [],
   "source": [
    "from sklearn.linear_model import LinearRegression"
   ]
  },
  {
   "cell_type": "code",
   "execution_count": 4,
   "id": "0dda88af",
   "metadata": {},
   "outputs": [],
   "source": [
    "from sklearn.ensemble import RandomForestRegressor"
   ]
  },
  {
   "cell_type": "code",
   "execution_count": 5,
   "id": "fd326c12",
   "metadata": {},
   "outputs": [],
   "source": [
    "data = pd.read_csv('train.csv')\n",
    "data_test = pd.read_csv('test.csv')\n"
   ]
  },
  {
   "cell_type": "markdown",
   "id": "869e3acd",
   "metadata": {},
   "source": [
    "## Смотрим данные"
   ]
  },
  {
   "cell_type": "code",
   "execution_count": 6,
   "id": "f1ef62f3",
   "metadata": {
    "scrolled": true
   },
   "outputs": [
    {
     "data": {
      "text/html": [
       "<div>\n",
       "<style scoped>\n",
       "    .dataframe tbody tr th:only-of-type {\n",
       "        vertical-align: middle;\n",
       "    }\n",
       "\n",
       "    .dataframe tbody tr th {\n",
       "        vertical-align: top;\n",
       "    }\n",
       "\n",
       "    .dataframe thead th {\n",
       "        text-align: right;\n",
       "    }\n",
       "</style>\n",
       "<table border=\"1\" class=\"dataframe\">\n",
       "  <thead>\n",
       "    <tr style=\"text-align: right;\">\n",
       "      <th></th>\n",
       "      <th>Id</th>\n",
       "      <th>DistrictId</th>\n",
       "      <th>Rooms</th>\n",
       "      <th>Square</th>\n",
       "      <th>LifeSquare</th>\n",
       "      <th>KitchenSquare</th>\n",
       "      <th>Floor</th>\n",
       "      <th>HouseFloor</th>\n",
       "      <th>HouseYear</th>\n",
       "      <th>Ecology_1</th>\n",
       "      <th>Ecology_2</th>\n",
       "      <th>Ecology_3</th>\n",
       "      <th>Social_1</th>\n",
       "      <th>Social_2</th>\n",
       "      <th>Social_3</th>\n",
       "      <th>Healthcare_1</th>\n",
       "      <th>Helthcare_2</th>\n",
       "      <th>Shops_1</th>\n",
       "      <th>Shops_2</th>\n",
       "      <th>Price</th>\n",
       "    </tr>\n",
       "  </thead>\n",
       "  <tbody>\n",
       "    <tr>\n",
       "      <th>0</th>\n",
       "      <td>11809</td>\n",
       "      <td>27</td>\n",
       "      <td>3.0</td>\n",
       "      <td>115.027311</td>\n",
       "      <td>NaN</td>\n",
       "      <td>10.0</td>\n",
       "      <td>4</td>\n",
       "      <td>10.0</td>\n",
       "      <td>2014</td>\n",
       "      <td>0.075424</td>\n",
       "      <td>B</td>\n",
       "      <td>B</td>\n",
       "      <td>11</td>\n",
       "      <td>3097</td>\n",
       "      <td>0</td>\n",
       "      <td>NaN</td>\n",
       "      <td>0</td>\n",
       "      <td>0</td>\n",
       "      <td>B</td>\n",
       "      <td>305018.871089</td>\n",
       "    </tr>\n",
       "    <tr>\n",
       "      <th>1</th>\n",
       "      <td>3013</td>\n",
       "      <td>22</td>\n",
       "      <td>1.0</td>\n",
       "      <td>39.832524</td>\n",
       "      <td>23.169223</td>\n",
       "      <td>8.0</td>\n",
       "      <td>7</td>\n",
       "      <td>8.0</td>\n",
       "      <td>1966</td>\n",
       "      <td>0.118537</td>\n",
       "      <td>B</td>\n",
       "      <td>B</td>\n",
       "      <td>30</td>\n",
       "      <td>6207</td>\n",
       "      <td>1</td>\n",
       "      <td>1183.0</td>\n",
       "      <td>1</td>\n",
       "      <td>0</td>\n",
       "      <td>B</td>\n",
       "      <td>177734.553407</td>\n",
       "    </tr>\n",
       "    <tr>\n",
       "      <th>2</th>\n",
       "      <td>8215</td>\n",
       "      <td>1</td>\n",
       "      <td>3.0</td>\n",
       "      <td>78.342215</td>\n",
       "      <td>47.671972</td>\n",
       "      <td>10.0</td>\n",
       "      <td>2</td>\n",
       "      <td>17.0</td>\n",
       "      <td>1988</td>\n",
       "      <td>0.025609</td>\n",
       "      <td>B</td>\n",
       "      <td>B</td>\n",
       "      <td>33</td>\n",
       "      <td>5261</td>\n",
       "      <td>0</td>\n",
       "      <td>240.0</td>\n",
       "      <td>3</td>\n",
       "      <td>1</td>\n",
       "      <td>B</td>\n",
       "      <td>282078.720850</td>\n",
       "    </tr>\n",
       "    <tr>\n",
       "      <th>3</th>\n",
       "      <td>2352</td>\n",
       "      <td>1</td>\n",
       "      <td>1.0</td>\n",
       "      <td>40.409907</td>\n",
       "      <td>NaN</td>\n",
       "      <td>1.0</td>\n",
       "      <td>10</td>\n",
       "      <td>22.0</td>\n",
       "      <td>1977</td>\n",
       "      <td>0.007122</td>\n",
       "      <td>B</td>\n",
       "      <td>B</td>\n",
       "      <td>1</td>\n",
       "      <td>264</td>\n",
       "      <td>0</td>\n",
       "      <td>NaN</td>\n",
       "      <td>0</td>\n",
       "      <td>1</td>\n",
       "      <td>B</td>\n",
       "      <td>168106.007630</td>\n",
       "    </tr>\n",
       "    <tr>\n",
       "      <th>4</th>\n",
       "      <td>13866</td>\n",
       "      <td>94</td>\n",
       "      <td>2.0</td>\n",
       "      <td>64.285067</td>\n",
       "      <td>38.562517</td>\n",
       "      <td>9.0</td>\n",
       "      <td>16</td>\n",
       "      <td>16.0</td>\n",
       "      <td>1972</td>\n",
       "      <td>0.282798</td>\n",
       "      <td>B</td>\n",
       "      <td>B</td>\n",
       "      <td>33</td>\n",
       "      <td>8667</td>\n",
       "      <td>2</td>\n",
       "      <td>NaN</td>\n",
       "      <td>0</td>\n",
       "      <td>6</td>\n",
       "      <td>B</td>\n",
       "      <td>343995.102962</td>\n",
       "    </tr>\n",
       "  </tbody>\n",
       "</table>\n",
       "</div>"
      ],
      "text/plain": [
       "      Id  DistrictId  Rooms      Square  LifeSquare  KitchenSquare  Floor  \\\n",
       "0  11809          27    3.0  115.027311         NaN           10.0      4   \n",
       "1   3013          22    1.0   39.832524   23.169223            8.0      7   \n",
       "2   8215           1    3.0   78.342215   47.671972           10.0      2   \n",
       "3   2352           1    1.0   40.409907         NaN            1.0     10   \n",
       "4  13866          94    2.0   64.285067   38.562517            9.0     16   \n",
       "\n",
       "   HouseFloor  HouseYear  Ecology_1 Ecology_2 Ecology_3  Social_1  Social_2  \\\n",
       "0        10.0       2014   0.075424         B         B        11      3097   \n",
       "1         8.0       1966   0.118537         B         B        30      6207   \n",
       "2        17.0       1988   0.025609         B         B        33      5261   \n",
       "3        22.0       1977   0.007122         B         B         1       264   \n",
       "4        16.0       1972   0.282798         B         B        33      8667   \n",
       "\n",
       "   Social_3  Healthcare_1  Helthcare_2  Shops_1 Shops_2          Price  \n",
       "0         0           NaN            0        0       B  305018.871089  \n",
       "1         1        1183.0            1        0       B  177734.553407  \n",
       "2         0         240.0            3        1       B  282078.720850  \n",
       "3         0           NaN            0        1       B  168106.007630  \n",
       "4         2           NaN            0        6       B  343995.102962  "
      ]
     },
     "execution_count": 6,
     "metadata": {},
     "output_type": "execute_result"
    }
   ],
   "source": [
    "data.head()"
   ]
  },
  {
   "cell_type": "code",
   "execution_count": null,
   "id": "42bc6bd0",
   "metadata": {},
   "outputs": [],
   "source": []
  },
  {
   "cell_type": "code",
   "execution_count": 7,
   "id": "6c675749",
   "metadata": {},
   "outputs": [
    {
     "name": "stdout",
     "output_type": "stream",
     "text": [
      "<class 'pandas.core.frame.DataFrame'>\n",
      "RangeIndex: 10000 entries, 0 to 9999\n",
      "Data columns (total 20 columns):\n",
      " #   Column         Non-Null Count  Dtype  \n",
      "---  ------         --------------  -----  \n",
      " 0   Id             10000 non-null  int64  \n",
      " 1   DistrictId     10000 non-null  int64  \n",
      " 2   Rooms          10000 non-null  float64\n",
      " 3   Square         10000 non-null  float64\n",
      " 4   LifeSquare     7887 non-null   float64\n",
      " 5   KitchenSquare  10000 non-null  float64\n",
      " 6   Floor          10000 non-null  int64  \n",
      " 7   HouseFloor     10000 non-null  float64\n",
      " 8   HouseYear      10000 non-null  int64  \n",
      " 9   Ecology_1      10000 non-null  float64\n",
      " 10  Ecology_2      10000 non-null  object \n",
      " 11  Ecology_3      10000 non-null  object \n",
      " 12  Social_1       10000 non-null  int64  \n",
      " 13  Social_2       10000 non-null  int64  \n",
      " 14  Social_3       10000 non-null  int64  \n",
      " 15  Healthcare_1   5202 non-null   float64\n",
      " 16  Helthcare_2    10000 non-null  int64  \n",
      " 17  Shops_1        10000 non-null  int64  \n",
      " 18  Shops_2        10000 non-null  object \n",
      " 19  Price          10000 non-null  float64\n",
      "dtypes: float64(8), int64(9), object(3)\n",
      "memory usage: 1.5+ MB\n"
     ]
    },
    {
     "data": {
      "text/plain": [
       "((10000, 20),\n",
       " None,\n",
       "                 Id    DistrictId         Rooms        Square   LifeSquare  \\\n",
       " count  10000.00000  10000.000000  10000.000000  10000.000000  7887.000000   \n",
       " mean    8383.40770     50.400800      1.890500     56.315775    37.199645   \n",
       " std     4859.01902     43.587592      0.839512     21.058732    86.241209   \n",
       " min        0.00000      0.000000      0.000000      1.136859     0.370619   \n",
       " 25%     4169.50000     20.000000      1.000000     41.774881    22.769832   \n",
       " 50%     8394.50000     36.000000      2.000000     52.513310    32.781260   \n",
       " 75%    12592.50000     75.000000      2.000000     65.900625    45.128803   \n",
       " max    16798.00000    209.000000     19.000000    641.065193  7480.592129   \n",
       " \n",
       "        KitchenSquare         Floor    HouseFloor     HouseYear     Ecology_1  \\\n",
       " count   10000.000000  10000.000000  10000.000000  1.000000e+04  10000.000000   \n",
       " mean        6.273300      8.526700     12.609400  3.990166e+03      0.118858   \n",
       " std        28.560917      5.241148      6.775974  2.005003e+05      0.119025   \n",
       " min         0.000000      1.000000      0.000000  1.910000e+03      0.000000   \n",
       " 25%         1.000000      4.000000      9.000000  1.974000e+03      0.017647   \n",
       " 50%         6.000000      7.000000     13.000000  1.977000e+03      0.075424   \n",
       " 75%         9.000000     12.000000     17.000000  2.001000e+03      0.195781   \n",
       " max      2014.000000     42.000000    117.000000  2.005201e+07      0.521867   \n",
       " \n",
       "            Social_1      Social_2      Social_3  Healthcare_1   Helthcare_2  \\\n",
       " count  10000.000000  10000.000000  10000.000000   5202.000000  10000.000000   \n",
       " mean      24.687000   5352.157400      8.039200   1142.904460      1.319500   \n",
       " std       17.532614   4006.799803     23.831875   1021.517264      1.493601   \n",
       " min        0.000000    168.000000      0.000000      0.000000      0.000000   \n",
       " 25%        6.000000   1564.000000      0.000000    350.000000      0.000000   \n",
       " 50%       25.000000   5285.000000      2.000000    900.000000      1.000000   \n",
       " 75%       36.000000   7227.000000      5.000000   1548.000000      2.000000   \n",
       " max       74.000000  19083.000000    141.000000   4849.000000      6.000000   \n",
       " \n",
       "             Shops_1          Price  \n",
       " count  10000.000000   10000.000000  \n",
       " mean       4.231300  214138.857399  \n",
       " std        4.806341   92872.293865  \n",
       " min        0.000000   59174.778028  \n",
       " 25%        1.000000  153872.633942  \n",
       " 50%        3.000000  192269.644879  \n",
       " 75%        6.000000  249135.462171  \n",
       " max       23.000000  633233.466570  )"
      ]
     },
     "execution_count": 7,
     "metadata": {},
     "output_type": "execute_result"
    }
   ],
   "source": [
    "data.shape, data.info(), data.describe()\n"
   ]
  },
  {
   "cell_type": "code",
   "execution_count": 8,
   "id": "4a597dca",
   "metadata": {
    "scrolled": true
   },
   "outputs": [
    {
     "data": {
      "text/plain": [
       "<matplotlib.collections.PathCollection at 0x1fc4d6a7fd0>"
      ]
     },
     "execution_count": 8,
     "metadata": {},
     "output_type": "execute_result"
    },
    {
     "data": {
      "image/png": "[encoded data removed]",
      "text/plain": [
       "<Figure size 432x288 with 1 Axes>"
      ]
     },
     "metadata": {
      "needs_background": "light"
     },
     "output_type": "display_data"
    }
   ],
   "source": [
    "plt.scatter(data['Square'], data['Price'])"
   ]
  },
  {
   "cell_type": "markdown",
   "id": "bbe4e23f",
   "metadata": {},
   "source": [
    "### Видим 4 точки выбросов. Огромная площадь за маленькую цену. "
   ]
  },
  {
   "cell_type": "code",
   "execution_count": 9,
   "id": "fd999ff0",
   "metadata": {},
   "outputs": [
    {
     "data": {
      "text/plain": [
       "(array([ 917., 2792., 3168., 1434.,  731.,  437.,  254.,  154.,   72.,\n",
       "          41.]),\n",
       " array([ 59174.77802758, 116580.64688182, 173986.51573605, 231392.38459029,\n",
       "        288798.25344453, 346204.12229876, 403609.991153  , 461015.86000724,\n",
       "        518421.72886147, 575827.59771571, 633233.46656995]),\n",
       " <BarContainer object of 10 artists>)"
      ]
     },
     "execution_count": 9,
     "metadata": {},
     "output_type": "execute_result"
    },
    {
     "data": {
      "image/png": "[encoded data removed]",
      "text/plain": [
       "<Figure size 432x288 with 1 Axes>"
      ]
     },
     "metadata": {
      "needs_background": "light"
     },
     "output_type": "display_data"
    }
   ],
   "source": [
    "plt.hist(data['Price'])"
   ]
  },
  {
   "cell_type": "markdown",
   "id": "67556204",
   "metadata": {},
   "source": [
    "### Распределение цен нормальное, оставляем без зменений."
   ]
  },
  {
   "cell_type": "code",
   "execution_count": null,
   "id": "96cff5a1",
   "metadata": {},
   "outputs": [],
   "source": []
  },
  {
   "cell_type": "markdown",
   "id": "3eb025f8",
   "metadata": {},
   "source": [
    "## Обработка данных"
   ]
  },
  {
   "cell_type": "markdown",
   "id": "f842601c",
   "metadata": {},
   "source": [
    "### Меняем тип полей. Далее значения а и b заменяем на аналогичные числовые. \n",
    "Заполняем пропуски медианами. \n",
    "Заменяем сверхюольшую площадь на среднюю.\n",
    "Заменяет сверхмаленькую площадь на 15 (на глаз)\n",
    "Сверхбольшую и сверхмаленькую жилую площадь заменяем на 70% от общей.\n",
    "Нулевые комнаты заменяем на 1 комнатную."
   ]
  },
  {
   "cell_type": "code",
   "execution_count": 10,
   "id": "ad84e67a",
   "metadata": {},
   "outputs": [],
   "source": [
    "def fix(data):\n",
    "    le = LabelEncoder().fit(data.Ecology_2)\n",
    "    le.transform(data.Ecology_2)\n",
    "    \n",
    "    \n",
    "    \n",
    "    data['Id'] = data['Id'].astype(str)\n",
    "    data['DistrictId'] = data['DistrictId'].astype(str)\\\n",
    "\n",
    "\n",
    "    \n",
    "    data['Ecology_2'] = le.transform(data.Ecology_2)\n",
    "    data['Ecology_3'] = le.transform(data.Ecology_3)\n",
    "    data['Shops_2'] = le.transform(data.Shops_2)\n",
    "    \n",
    "    #data = data.replace('A', -1)\n",
    "    #data = data.replace('B', 1)\n",
    "\n",
    "    # Заполнили пропуски медианами. \n",
    "    data['Healthcare_1'] = data['Healthcare_1'].fillna(data['Healthcare_1'].median())\n",
    "    data['LifeSquare'] = data['LifeSquare'].fillna(data['LifeSquare'].median())\n",
    "\n",
    "\n",
    "    data.loc[data['Square'] > 250, 'Square'] = data['Square'].mean()\n",
    "    data.loc[data['Square'] < 15, 'Square'] = 15\n",
    "    \n",
    "    data.loc[data['LifeSquare'] >= (data['Square'] * 0.95), 'LifeSquare'] = data['Square'] * 0.7\n",
    "    data.loc[data['LifeSquare'] < (data['Square'] * 0.2), 'LifeSquare'] = data['Square'] * 0.7\n",
    "    \n",
    "    data.loc[data['Rooms'] == 0, 'Rooms'] = 1\n",
    "    \n",
    "    data['Ecology_2'] = data['Ecology_2'].astype(str)\n",
    "    data['Ecology_3'] = data['Ecology_3'].astype(str)\n",
    "    data['Shops_2'] = data['Shops_2'].astype(str)\n",
    "    return data\n",
    "\n",
    "\n",
    "\n",
    "\n"
   ]
  },
  {
   "cell_type": "markdown",
   "id": "cc9e3832",
   "metadata": {},
   "source": [
    "## Нарезаем данные"
   ]
  },
  {
   "cell_type": "code",
   "execution_count": 11,
   "id": "1052ec4f",
   "metadata": {
    "scrolled": true
   },
   "outputs": [],
   "source": [
    "data = fix(data)\n",
    "data_test = fix(data_test)\n",
    "\n",
    "\n",
    "\n",
    "\n"
   ]
  },
  {
   "cell_type": "code",
   "execution_count": 12,
   "id": "5bb196b9",
   "metadata": {},
   "outputs": [
    {
     "name": "stdout",
     "output_type": "stream",
     "text": [
      "<class 'pandas.core.frame.DataFrame'>\n",
      "RangeIndex: 10000 entries, 0 to 9999\n",
      "Data columns (total 20 columns):\n",
      " #   Column         Non-Null Count  Dtype  \n",
      "---  ------         --------------  -----  \n",
      " 0   Id             10000 non-null  object \n",
      " 1   DistrictId     10000 non-null  object \n",
      " 2   Rooms          10000 non-null  float64\n",
      " 3   Square         10000 non-null  float64\n",
      " 4   LifeSquare     10000 non-null  float64\n",
      " 5   KitchenSquare  10000 non-null  float64\n",
      " 6   Floor          10000 non-null  int64  \n",
      " 7   HouseFloor     10000 non-null  float64\n",
      " 8   HouseYear      10000 non-null  int64  \n",
      " 9   Ecology_1      10000 non-null  float64\n",
      " 10  Ecology_2      10000 non-null  object \n",
      " 11  Ecology_3      10000 non-null  object \n",
      " 12  Social_1       10000 non-null  int64  \n",
      " 13  Social_2       10000 non-null  int64  \n",
      " 14  Social_3       10000 non-null  int64  \n",
      " 15  Healthcare_1   10000 non-null  float64\n",
      " 16  Helthcare_2    10000 non-null  int64  \n",
      " 17  Shops_1        10000 non-null  int64  \n",
      " 18  Shops_2        10000 non-null  object \n",
      " 19  Price          10000 non-null  float64\n",
      "dtypes: float64(8), int64(7), object(5)\n",
      "memory usage: 1.5+ MB\n"
     ]
    },
    {
     "data": {
      "text/plain": [
       "(      Id DistrictId  Rooms      Square  LifeSquare  KitchenSquare  Floor  \\\n",
       " 0  11809         27    3.0  115.027311   32.781260           10.0      4   \n",
       " 1   3013         22    1.0   39.832524   23.169223            8.0      7   \n",
       " 2   8215          1    3.0   78.342215   47.671972           10.0      2   \n",
       " 3   2352          1    1.0   40.409907   32.781260            1.0     10   \n",
       " 4  13866         94    2.0   64.285067   38.562517            9.0     16   \n",
       " \n",
       "    HouseFloor  HouseYear  Ecology_1 Ecology_2 Ecology_3  Social_1  Social_2  \\\n",
       " 0        10.0       2014   0.075424         1         1        11      3097   \n",
       " 1         8.0       1966   0.118537         1         1        30      6207   \n",
       " 2        17.0       1988   0.025609         1         1        33      5261   \n",
       " 3        22.0       1977   0.007122         1         1         1       264   \n",
       " 4        16.0       1972   0.282798         1         1        33      8667   \n",
       " \n",
       "    Social_3  Healthcare_1  Helthcare_2  Shops_1 Shops_2          Price  \n",
       " 0         0         900.0            0        0       1  305018.871089  \n",
       " 1         1        1183.0            1        0       1  177734.553407  \n",
       " 2         0         240.0            3        1       1  282078.720850  \n",
       " 3         0         900.0            0        1       1  168106.007630  \n",
       " 4         2         900.0            0        6       1  343995.102962  ,\n",
       " None)"
      ]
     },
     "execution_count": 12,
     "metadata": {},
     "output_type": "execute_result"
    }
   ],
   "source": [
    "data.head(), data.info()"
   ]
  },
  {
   "cell_type": "markdown",
   "id": "4a0f7e6a",
   "metadata": {},
   "source": [
    "#### Исправили выбросы по площади. "
   ]
  },
  {
   "cell_type": "code",
   "execution_count": 13,
   "id": "7c3969f4",
   "metadata": {},
   "outputs": [
    {
     "data": {
      "text/plain": [
       "<matplotlib.collections.PathCollection at 0x1fc5df7ceb0>"
      ]
     },
     "execution_count": 13,
     "metadata": {},
     "output_type": "execute_result"
    },
    {
     "data": {
      "image/png": "[encoded data removed]",
      "text/plain": [
       "<Figure size 432x288 with 1 Axes>"
      ]
     },
     "metadata": {
      "needs_background": "light"
     },
     "output_type": "display_data"
    }
   ],
   "source": [
    "plt.scatter(data['Square'], data['Price'])"
   ]
  },
  {
   "cell_type": "code",
   "execution_count": 14,
   "id": "205a2b18",
   "metadata": {},
   "outputs": [],
   "source": [
    "y = pd.DataFrame(data['Price'])\n",
    "x = data\n",
    "del x['Price']\n"
   ]
  },
  {
   "cell_type": "markdown",
   "id": "a7737633",
   "metadata": {},
   "source": [
    "#### Нормализовали данные. Для дерева не критично но так как тесты были на разных моделях решил оставить. "
   ]
  },
  {
   "cell_type": "code",
   "execution_count": 15,
   "id": "58def99f",
   "metadata": {
    "scrolled": true
   },
   "outputs": [],
   "source": [
    "scaler = StandardScaler().fit(x)\n",
    "x = scaler.transform(x)\n",
    "data_test = scaler.transform(data_test)"
   ]
  },
  {
   "cell_type": "code",
   "execution_count": 16,
   "id": "7f0b3c09",
   "metadata": {},
   "outputs": [],
   "source": [
    "x_train, x_test, y_train, y_test = train_test_split(x, y, test_size=0.8, random_state=5)\n",
    "\n"
   ]
  },
  {
   "cell_type": "markdown",
   "id": "7532a85c",
   "metadata": {},
   "source": [
    "#### Моделька леса. Значения подобраны так, что бы снизить переобучение. "
   ]
  },
  {
   "cell_type": "code",
   "execution_count": 17,
   "id": "32c807c3",
   "metadata": {},
   "outputs": [
    {
     "data": {
      "text/plain": [
       "RandomForestRegressor(max_depth=9, max_features=4, n_estimators=1000)"
      ]
     },
     "execution_count": 17,
     "metadata": {},
     "output_type": "execute_result"
    }
   ],
   "source": [
    "model = RandomForestRegressor(n_estimators = 1000, max_depth = 9, max_features=4)\n",
    "model.fit(x_train, y_train['Price'])\n"
   ]
  },
  {
   "cell_type": "code",
   "execution_count": 18,
   "id": "0d24b747",
   "metadata": {},
   "outputs": [],
   "source": [
    "y_pred = model.predict(x_test)\n",
    "y_pred_t = model.predict(x_train)"
   ]
  },
  {
   "cell_type": "code",
   "execution_count": 19,
   "id": "7bf82c61",
   "metadata": {
    "scrolled": true
   },
   "outputs": [],
   "source": [
    "answear = pd.DataFrame({'y_train': y_train['Price'], 'y_pred': y_pred_t.flatten()})\n",
    "#answear"
   ]
  },
  {
   "cell_type": "code",
   "execution_count": 20,
   "id": "60159a74",
   "metadata": {
    "scrolled": true
   },
   "outputs": [
    {
     "data": {
      "text/plain": [
       "0.8620159015731833"
      ]
     },
     "execution_count": 20,
     "metadata": {},
     "output_type": "execute_result"
    }
   ],
   "source": [
    "r2_score(y_train, y_pred_t)"
   ]
  },
  {
   "cell_type": "code",
   "execution_count": 21,
   "id": "53651d80",
   "metadata": {},
   "outputs": [],
   "source": [
    "answear = pd.DataFrame({'y_test': y_test['Price'], 'y_pred': y_pred.flatten()})\n",
    "#answear"
   ]
  },
  {
   "cell_type": "code",
   "execution_count": 22,
   "id": "d5b50162",
   "metadata": {},
   "outputs": [
    {
     "data": {
      "text/plain": [
       "0.6714684041221426"
      ]
     },
     "execution_count": 22,
     "metadata": {},
     "output_type": "execute_result"
    }
   ],
   "source": [
    "r2_score(y_test, y_pred)"
   ]
  },
  {
   "cell_type": "markdown",
   "id": "22acddd5",
   "metadata": {},
   "source": [
    "### Как видно из графика категориальные признаки ранее имевшие значения А и В совершенно не играют роли. Пробовал их как то меняь, не помогло."
   ]
  },
  {
   "cell_type": "code",
   "execution_count": 23,
   "id": "a2f4ed6e",
   "metadata": {},
   "outputs": [
    {
     "data": {
      "text/plain": [
       "<BarContainer object of 19 artists>"
      ]
     },
     "execution_count": 23,
     "metadata": {},
     "output_type": "execute_result"
    },
    {
     "data": {
      "image/png": "[encoded data removed]",
      "text/plain": [
       "<Figure size 1296x720 with 1 Axes>"
      ]
     },
     "metadata": {
      "needs_background": "light"
     },
     "output_type": "display_data"
    }
   ],
   "source": [
    "plt.figure(figsize=(18,10))\n",
    "plt.barh(data.columns, model.feature_importances_)"
   ]
  },
  {
   "cell_type": "code",
   "execution_count": 24,
   "id": "f36e53a4",
   "metadata": {},
   "outputs": [],
   "source": [
    "submit = pd.read_csv('sample_submission.csv')\n",
    "y_pred_test = model.predict(data_test)\n",
    "\n",
    "submit['Price'] = y_pred_test\n",
    "submit.to_csv('gb_predict.csv', index=False)"
   ]
  },
  {
   "cell_type": "code",
   "execution_count": 25,
   "id": "813b398f",
   "metadata": {},
   "outputs": [
    {
     "data": {
      "text/html": [
       "<div>\n",
       "<style scoped>\n",
       "    .dataframe tbody tr th:only-of-type {\n",
       "        vertical-align: middle;\n",
       "    }\n",
       "\n",
       "    .dataframe tbody tr th {\n",
       "        vertical-align: top;\n",
       "    }\n",
       "\n",
       "    .dataframe thead th {\n",
       "        text-align: right;\n",
       "    }\n",
       "</style>\n",
       "<table border=\"1\" class=\"dataframe\">\n",
       "  <thead>\n",
       "    <tr style=\"text-align: right;\">\n",
       "      <th></th>\n",
       "      <th>Id</th>\n",
       "      <th>Price</th>\n",
       "    </tr>\n",
       "  </thead>\n",
       "  <tbody>\n",
       "    <tr>\n",
       "      <th>0</th>\n",
       "      <td>4567</td>\n",
       "      <td>159847.610120</td>\n",
       "    </tr>\n",
       "    <tr>\n",
       "      <th>1</th>\n",
       "      <td>5925</td>\n",
       "      <td>122897.122993</td>\n",
       "    </tr>\n",
       "    <tr>\n",
       "      <th>2</th>\n",
       "      <td>960</td>\n",
       "      <td>162865.988258</td>\n",
       "    </tr>\n",
       "    <tr>\n",
       "      <th>3</th>\n",
       "      <td>3848</td>\n",
       "      <td>145490.905528</td>\n",
       "    </tr>\n",
       "    <tr>\n",
       "      <th>4</th>\n",
       "      <td>746</td>\n",
       "      <td>194746.409771</td>\n",
       "    </tr>\n",
       "    <tr>\n",
       "      <th>...</th>\n",
       "      <td>...</td>\n",
       "      <td>...</td>\n",
       "    </tr>\n",
       "    <tr>\n",
       "      <th>4995</th>\n",
       "      <td>10379</td>\n",
       "      <td>196564.814202</td>\n",
       "    </tr>\n",
       "    <tr>\n",
       "      <th>4996</th>\n",
       "      <td>16138</td>\n",
       "      <td>399861.819927</td>\n",
       "    </tr>\n",
       "    <tr>\n",
       "      <th>4997</th>\n",
       "      <td>3912</td>\n",
       "      <td>155874.014797</td>\n",
       "    </tr>\n",
       "    <tr>\n",
       "      <th>4998</th>\n",
       "      <td>5722</td>\n",
       "      <td>175770.910675</td>\n",
       "    </tr>\n",
       "    <tr>\n",
       "      <th>4999</th>\n",
       "      <td>11004</td>\n",
       "      <td>247187.906897</td>\n",
       "    </tr>\n",
       "  </tbody>\n",
       "</table>\n",
       "<p>5000 rows × 2 columns</p>\n",
       "</div>"
      ],
      "text/plain": [
       "         Id          Price\n",
       "0      4567  159847.610120\n",
       "1      5925  122897.122993\n",
       "2       960  162865.988258\n",
       "3      3848  145490.905528\n",
       "4       746  194746.409771\n",
       "...     ...            ...\n",
       "4995  10379  196564.814202\n",
       "4996  16138  399861.819927\n",
       "4997   3912  155874.014797\n",
       "4998   5722  175770.910675\n",
       "4999  11004  247187.906897\n",
       "\n",
       "[5000 rows x 2 columns]"
      ]
     },
     "execution_count": 25,
     "metadata": {},
     "output_type": "execute_result"
    }
   ],
   "source": [
    "submit"
   ]
  },
  {
   "cell_type": "code",
   "execution_count": null,
   "id": "e0be83fd",
   "metadata": {},
   "outputs": [],
   "source": []
  }
 ],
 "metadata": {
  "kernelspec": {
   "display_name": "Python 3",
   "language": "python",
   "name": "python3"
  },
  "language_info": {
   "codemirror_mode": {
    "name": "ipython",
    "version": 3
   },
   "file_extension": ".py",
   "mimetype": "text/x-python",
   "name": "python",
   "nbconvert_exporter": "python",
   "pygments_lexer": "ipython3",
   "version": "3.9.5"
  }
 },
 "nbformat": 4,
 "nbformat_minor": 5
}
